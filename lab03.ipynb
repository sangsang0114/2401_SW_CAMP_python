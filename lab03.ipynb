{
 "cells": [
  {
   "cell_type": "markdown",
   "id": "e1642090",
   "metadata": {},
   "source": [
    "문제 1번\n",
    "\n",
    "game = {\"가위\":1,\n",
    "        \"바위\":2,\n",
    "        \"보\"  : 3 }  \n",
    "\n",
    "위와 같은 딕셔너리가 있습니다. \n",
    "사용자로 부터 \"가위, 바위,  보\" 중 하나를 입력받고, 그 값을 key로 \n",
    "딕셔너리에서 value를 조회하여 출력합니다.  "
   ]
  },
  {
   "cell_type": "code",
   "execution_count": 5,
   "id": "6084dd89",
   "metadata": {},
   "outputs": [],
   "source": [
    "game = {\"가위\": 1,\n",
    "        \"바위\": 2,\n",
    "        \"보\": 3}"
   ]
  },
  {
   "cell_type": "code",
   "execution_count": 6,
   "id": "4537e9d4",
   "metadata": {},
   "outputs": [
    {
     "name": "stdout",
     "output_type": "stream",
     "text": [
      "가위/바위/보 중 하나를 입력하세요 : 바위\n"
     ]
    }
   ],
   "source": [
    "user_input = input('가위/바위/보 중 하나를 입력하세요 : ')"
   ]
  },
  {
   "cell_type": "code",
   "execution_count": 7,
   "id": "94df6986",
   "metadata": {},
   "outputs": [
    {
     "name": "stdout",
     "output_type": "stream",
     "text": [
      "2\n"
     ]
    }
   ],
   "source": [
    "print(game[user_input])"
   ]
  },
  {
   "cell_type": "markdown",
   "id": "29a1db68",
   "metadata": {},
   "source": [
    "문제 2번\n",
    "\n",
    "사용자로 부터 이름, 주소를 입력받고, \n",
    "user라는 딕셔너리에 저장합니다. \n",
    "예를 들어, 이름을 홍길동 입력, 주소를 서울 입력했으면 \n",
    "user = {\"name\" : \"홍길동\", \"address\" : \"서울\" } \n",
    "의 딕셔너리를 만들고, 그 정보를 출력합니다. "
   ]
  },
  {
   "cell_type": "code",
   "execution_count": 16,
   "id": "a2473323",
   "metadata": {},
   "outputs": [
    {
     "name": "stdout",
     "output_type": "stream",
     "text": [
      "당신의 이름은? : 윤웅상\n"
     ]
    }
   ],
   "source": [
    "name = input('당신의 이름은? : ')"
   ]
  },
  {
   "cell_type": "code",
   "execution_count": 17,
   "id": "c27af003",
   "metadata": {},
   "outputs": [
    {
     "name": "stdout",
     "output_type": "stream",
     "text": [
      "당신의 주소는? : 경기도\n"
     ]
    }
   ],
   "source": [
    "addr = input('당신의 주소는? : ')"
   ]
  },
  {
   "cell_type": "code",
   "execution_count": 18,
   "id": "c00ea8f6",
   "metadata": {},
   "outputs": [],
   "source": [
    "user = dict()"
   ]
  },
  {
   "cell_type": "code",
   "execution_count": 19,
   "id": "f90bf2ec",
   "metadata": {},
   "outputs": [],
   "source": [
    "user[\"name\"] = name\n",
    "user[\"address\"] = addr"
   ]
  },
  {
   "cell_type": "code",
   "execution_count": 20,
   "id": "0614b466",
   "metadata": {},
   "outputs": [
    {
     "name": "stdout",
     "output_type": "stream",
     "text": [
      "{'name': '윤웅상', 'address': '경기도'}\n"
     ]
    }
   ],
   "source": [
    "print(user)"
   ]
  },
  {
   "cell_type": "markdown",
   "id": "9fe1adf4",
   "metadata": {},
   "source": [
    "문제 3번\n",
    "\n",
    "price = { \"피자\" : 10000 ,  \"김치볶음밥\" : 5000, \"짜장면\" : 4500, \"김밥\" : 2000 }\n",
    "order = { \"피자\" : 3 ,  \"김치볶음밥\" : 2,  \"김밥\" : 5 }  \n",
    "\n",
    "위와 같이 제품의 가격 정보가 있는 딕셔너리와\n",
    "                 주문 정보가 있는 딕셔너리가 있다.  \n",
    "총 주문 가격을 출력하세요. "
   ]
  },
  {
   "cell_type": "code",
   "execution_count": 21,
   "id": "92cdc55d",
   "metadata": {},
   "outputs": [],
   "source": [
    "price = { \"피자\" : 10000 ,  \"김치볶음밥\" : 5000, \"짜장면\" : 4500, \"김밥\" : 2000 }\n",
    "order = { \"피자\" : 3 ,  \"김치볶음밥\" : 2,  \"김밥\" : 5 }  "
   ]
  },
  {
   "cell_type": "code",
   "execution_count": 46,
   "id": "73e22f5b",
   "metadata": {},
   "outputs": [
    {
     "name": "stdout",
     "output_type": "stream",
     "text": [
      "50000\n"
     ]
    }
   ],
   "source": [
    "total = 0\n",
    "for k in order.keys():\n",
    "    total += order[k] * price[k]\n",
    "print(total)"
   ]
  },
  {
   "cell_type": "code",
   "execution_count": 25,
   "id": "990185c3",
   "metadata": {},
   "outputs": [
    {
     "name": "stdout",
     "output_type": "stream",
     "text": [
      "피자 김치볶음밥 김밥 "
     ]
    }
   ],
   "source": [
    "for o in order.keys():\n",
    "    print(o, end = ' ')"
   ]
  },
  {
   "cell_type": "code",
   "execution_count": 29,
   "id": "739c6c21",
   "metadata": {},
   "outputs": [
    {
     "name": "stdout",
     "output_type": "stream",
     "text": [
      "없습니다!\n"
     ]
    }
   ],
   "source": [
    "if \"짜장면\" in order:\n",
    "    print('있습니다!')\n",
    "else:\n",
    "    print('없습니다!')"
   ]
  },
  {
   "cell_type": "markdown",
   "id": "5185f42d",
   "metadata": {},
   "source": [
    "문제 4번. 파이썬의 다음 자료형의 특징에 대하여 설명하세요. \n",
    "\n",
    "리스트, 딕셔너리, 투플, set  "
   ]
  },
  {
   "cell_type": "markdown",
   "id": "e8602b11",
   "metadata": {},
   "source": [
    "# 답변"
   ]
  },
  {
   "cell_type": "markdown",
   "id": "1e9f9503",
   "metadata": {},
   "source": [
    "## 리스트\n",
    "python에서 사용하는 배열 형태의 자료구조입니다.\n",
    "대괄호 []로 생성하며, 자료형에 엄격한 java와는 다르게 파이썬의 리스트에서는 다양한 자료형을 담을 수 있습니다.\n",
    "\n",
    "예를 들면, 다차원 리스트 생성을 위해 리스트 안에 리스트를 담을 수도 있고, 한 리스트 안에 정수,실수,문자,기타 객체 등을 함께 담을 수 있습니다"
   ]
  },
  {
   "cell_type": "markdown",
   "id": "6ec9c9c5",
   "metadata": {},
   "source": [
    "## 투플\n",
    "소괄호 ()를 사용하여 생성합니다.\n",
    "\n",
    "리스트와는 다르게 한 번 생성된 투플은 데이터의 삽입 및 삭제, 변경 작업이 불가능합니다. 이러한 특성이 있기 때문에, 함수의 매개변수로 리스트가 아닌 투플 자료형을 사용하기도 합니다."
   ]
  },
  {
   "cell_type": "markdown",
   "id": "2e562fae",
   "metadata": {},
   "source": [
    "## 딕셔너리\n",
    "중괄호 {}를 사용하여 생성합니다.\n",
    "\n",
    "key-value 형태의 자료구조로, `myDictionary['key'] = 'value'` 형태로 데이터를 삽입하거나 추가할 수 있습니다."
   ]
  },
  {
   "cell_type": "markdown",
   "id": "2f0389bf",
   "metadata": {},
   "source": [
    "## 집합(Set)\n",
    "중괄호 {}를 사용하여 생성합니다.\n",
    "중괄호를 사용한다는 점에서 딕셔너리 자료형과 비슷할 수도 있으나 큰 차이점으로는, 딕셔너리 자료형은 key-value 형태의 자료형이고, Set자료형은 중복을 허용하지 않는다는 특성이 있습니다."
   ]
  }
 ],
 "metadata": {
  "kernelspec": {
   "display_name": "Python 3 (ipykernel)",
   "language": "python",
   "name": "python3"
  },
  "language_info": {
   "codemirror_mode": {
    "name": "ipython",
    "version": 3
   },
   "file_extension": ".py",
   "mimetype": "text/x-python",
   "name": "python",
   "nbconvert_exporter": "python",
   "pygments_lexer": "ipython3",
   "version": "3.11.5"
  }
 },
 "nbformat": 4,
 "nbformat_minor": 5
}
