{
 "cells": [
  {
   "cell_type": "markdown",
   "id": "16c0b326",
   "metadata": {},
   "source": [
    "# 1번 문제\n",
    "다음과 같은 리스트가 있습니다. \n",
    "홍길동과 김영희의 점수 평균을 다음과 같이 출력하세요.\n",
    " \n",
    "data = [ \"홍길동\", [90, 100],\n",
    "         \"김영희\", [100,100]  ] \n",
    " \n",
    " \n",
    "\n",
    "(출력결과)\n",
    "\n",
    "홍길동의 성적합은 190이고 평균은 95입니다. \t \n",
    "김영희의 성적합은 200이고 평균은 100입니다.   "
   ]
  },
  {
   "cell_type": "code",
   "execution_count": 1,
   "id": "2843e156",
   "metadata": {},
   "outputs": [],
   "source": [
    "data = [ \"홍길동\", [90, 100], \"김영희\", [100,100] ]"
   ]
  },
  {
   "cell_type": "code",
   "execution_count": 2,
   "id": "522bd440",
   "metadata": {},
   "outputs": [
    {
     "name": "stdout",
     "output_type": "stream",
     "text": [
      "홍길동의 성적합은 190이고 평균은 95.000000입니다.\n",
      "김영희의 성적합은 200이고 평균은 100.000000입니다.\n"
     ]
    }
   ],
   "source": [
    "for i in range(0, len(data), 2):\n",
    "    print(\"%s의 성적합은 %d이고 평균은 %f입니다.\" % (data[i], sum(data[i+1]), sum(data[i+1])/2))"
   ]
  },
  {
   "cell_type": "markdown",
   "id": "5b2720b2",
   "metadata": {},
   "source": [
    "# 2번 문제\n",
    "\n",
    "다음과 같은 리스트가 있습니다\n",
    "data = [ \"홍길동\", [90, 100],\n",
    "         \"김영희\", [100,100] ]\n",
    "\n",
    " \n",
    "* data 리스트에서 마지막 요소를 삭제하세요. \n",
    "* data 리스트에서 마지막 위치에 \"제임스\", [90,90]를 추가하세요.\n",
    "* data 리스트에서 맨처음 위치에 \"김철수\", [90,90] 을 추가하세요. \n",
    "* data 리스트에서 \"김철수\" 가 들어있는 요소의 인덱스를 출력하세요. \n",
    "* data 리스트에서 \"홍길동\" 가 들어있는 요소의 인덱스를 출력하세요.\n",
    "* data 리스트에서 \"김영희\" 가 들어있는 요소의 인덱스를 출력하세요."
   ]
  },
  {
   "cell_type": "code",
   "execution_count": 3,
   "id": "c46c89cd",
   "metadata": {},
   "outputs": [],
   "source": [
    "data = [ \"홍길동\", [90, 100], \"김영희\", [100,100]]"
   ]
  },
  {
   "cell_type": "code",
   "execution_count": 4,
   "id": "608b820c",
   "metadata": {},
   "outputs": [],
   "source": [
    "def custom_add(name, scores,index=len(data)):\n",
    "    if index % 2 == 1:\n",
    "        index+=1\n",
    "    data.insert(index,name)\n",
    "    data.insert(index+1,scores)"
   ]
  },
  {
   "cell_type": "code",
   "execution_count": 5,
   "id": "bd93bc2f",
   "metadata": {},
   "outputs": [],
   "source": [
    "def custom_pop():\n",
    "    del data[-2::]"
   ]
  },
  {
   "cell_type": "code",
   "execution_count": 6,
   "id": "a1369eac",
   "metadata": {},
   "outputs": [],
   "source": [
    "def custom_find(name):\n",
    "    try:\n",
    "        return data.index(name)\n",
    "    except(ValueError):\n",
    "        return '존재하지 않는 이름입니다'"
   ]
  },
  {
   "cell_type": "code",
   "execution_count": 11,
   "id": "f2ea7ba8",
   "metadata": {},
   "outputs": [
    {
     "name": "stdout",
     "output_type": "stream",
     "text": [
      "0\n",
      "존재하지 않는 이름입니다\n",
      "존재하지 않는 이름입니다\n"
     ]
    }
   ],
   "source": [
    "custom_pop()\n",
    "custom_add(\"제임스\", [90,90])\n",
    "custom_add(\"김철수\", [90,90],0)\n",
    "\n",
    "print(custom_find(\"김철수\"))\n",
    "print(custom_find(\"홍길동\"))\n",
    "print(custom_find(\"김영희\"))"
   ]
  },
  {
   "cell_type": "code",
   "execution_count": null,
   "id": "2b6abdb9",
   "metadata": {},
   "outputs": [],
   "source": []
  }
 ],
 "metadata": {
  "kernelspec": {
   "display_name": "Python 3 (ipykernel)",
   "language": "python",
   "name": "python3"
  },
  "language_info": {
   "codemirror_mode": {
    "name": "ipython",
    "version": 3
   },
   "file_extension": ".py",
   "mimetype": "text/x-python",
   "name": "python",
   "nbconvert_exporter": "python",
   "pygments_lexer": "ipython3",
   "version": "3.11.5"
  }
 },
 "nbformat": 4,
 "nbformat_minor": 5
}
