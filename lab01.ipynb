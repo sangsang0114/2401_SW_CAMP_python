{
 "cells": [
  {
   "cell_type": "markdown",
   "id": "70706284",
   "metadata": {},
   "source": [
    "<클래스 만들기 문제 >   \n",
    "=========================================== \n",
    "클래스이름 : calculator\n",
    "속성(변수) : 결과 저장할 변수 result. 초기값 0.0 \n",
    "             계산기 이름을 저장할 name.    \n",
    "  \n",
    "동작(함수) : \n",
    "  1) 함수이름 : add   \n",
    "     매개인자 몇 개 든 다 받을수 있다.      \n",
    "     처리 내용: 계산기객체의 result값을 매개인자로 더한후,result에저장\n",
    "  2) 함수이름 : subtract \n",
    "     매개인자 한 개       \n",
    "     처리 내용: 계산기객체의 result값을 매개인자로 뺀 후, result에저장 \n",
    "  3) 함수이름 : multiply\n",
    "     매개인자 한 개       \n",
    "     처리 내용: 계산기객체의 result값을 매개인자로 곱한후,result에저장\n",
    "  4) 함수이름 : divide\n",
    "     매개인자 한 개       \n",
    "     처리 내용: 계산기객체의 result값을 매개인자로 나누어 result에저장\n",
    "\n",
    "name이 \"똑똑한계산기\"인 calculator 객체를 하나 생성한다. \n",
    "계산기 객체의 함수들을 이용하여, 5를 더하고 10을 곱하고 2를 빼고, \n",
    "3으로 나눈 후, \n",
    "결과를 출력하세요. "
   ]
  },
  {
   "cell_type": "code",
   "execution_count": 14,
   "id": "e2b73827",
   "metadata": {},
   "outputs": [],
   "source": [
    "class Calculator:\n",
    "    result = 0.0\n",
    "    def __init__(self, name):\n",
    "        self.name = name\n",
    "    def substract(self, x):\n",
    "        self.result -= x\n",
    "    def multiply(self, x):\n",
    "        self.result *= x\n",
    "    def divide(self, x):\n",
    "        if x == 0:\n",
    "            return\n",
    "        else:\n",
    "            self.result /= x\n",
    "    def add(self, *args):\n",
    "        for x in args:\n",
    "            self.result += x"
   ]
  },
  {
   "cell_type": "code",
   "execution_count": 10,
   "id": "871c920d",
   "metadata": {},
   "outputs": [],
   "source": [
    "c = Calculator(\"똑똑한 계산기\")\n",
    "c.add(5)\n",
    "c.multiply(10)\n",
    "c.substract(2)\n",
    "c.divide(3)"
   ]
  },
  {
   "cell_type": "code",
   "execution_count": 13,
   "id": "3438f9df",
   "metadata": {},
   "outputs": [
    {
     "name": "stdout",
     "output_type": "stream",
     "text": [
      "똑똑한 계산기\n",
      "16.0\n"
     ]
    }
   ],
   "source": [
    "print(c.name)\n",
    "print(c.result)"
   ]
  },
  {
   "cell_type": "code",
   "execution_count": null,
   "id": "27bcd229",
   "metadata": {},
   "outputs": [],
   "source": []
  }
 ],
 "metadata": {
  "kernelspec": {
   "display_name": "Python 3 (ipykernel)",
   "language": "python",
   "name": "python3"
  },
  "language_info": {
   "codemirror_mode": {
    "name": "ipython",
    "version": 3
   },
   "file_extension": ".py",
   "mimetype": "text/x-python",
   "name": "python",
   "nbconvert_exporter": "python",
   "pygments_lexer": "ipython3",
   "version": "3.11.5"
  }
 },
 "nbformat": 4,
 "nbformat_minor": 5
}
